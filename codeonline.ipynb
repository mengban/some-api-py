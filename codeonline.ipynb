{
 "cells": [
  {
   "cell_type": "code",
   "execution_count": 11,
   "metadata": {},
   "outputs": [
    {
     "name": "stdout",
     "output_type": "stream",
     "text": [
      "5\n",
      "9\n"
     ]
    }
   ],
   "source": [
    "### 题目1 \n",
    "### 给定一个数 做一下联众操作一一\n",
    "# 1.分成更小的数\n",
    "# 2.全部的数字减1\n",
    "#### 其中分裂操作最对执行难K次  求所有数据归0所需的最少执行次数。\n",
    "def leastop(N,k):\n",
    "    '''\n",
    "    \n",
    "    贪心算法即可求解\n",
    "    \n",
    "    '''\n",
    "    res = 0\n",
    "    while (k>0 and N >0):\n",
    "        N = (N+1)//2\n",
    "        k -= 1\n",
    "        res += 1\n",
    "    return res + N\n",
    "print(leastop(15,4))\n",
    "\n",
    "### 题目2\n",
    "### 村庄分酒。k个单位的酒到相邻村子需要花费k元 求最小运费\n",
    "\n",
    "def least_cost(nums):\n",
    "    '''\n",
    "    \n",
    "    贪心算法求解\n",
    "    \n",
    "    '''\n",
    "    res = abs(nums[0])\n",
    "    tmp = nums[0]\n",
    "    for i in range(1,len(nums),):\n",
    "        tmp += nums[i]\n",
    "        res += abs(tmp)\n",
    "    return res\n",
    "print(least_cost([5,-4,1,-3,1]))"
   ]
  },
  {
   "cell_type": "code",
   "execution_count": null,
   "metadata": {},
   "outputs": [],
   "source": []
  }
 ],
 "metadata": {
  "kernelspec": {
   "display_name": "Python 3",
   "language": "python",
   "name": "python3"
  },
  "language_info": {
   "codemirror_mode": {
    "name": "ipython",
    "version": 3
   },
   "file_extension": ".py",
   "mimetype": "text/x-python",
   "name": "python",
   "nbconvert_exporter": "python",
   "pygments_lexer": "ipython3",
   "version": "3.6.5"
  }
 },
 "nbformat": 4,
 "nbformat_minor": 2
}
