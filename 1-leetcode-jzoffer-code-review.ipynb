{
 "cells": [
  {
   "cell_type": "code",
   "execution_count": 3,
   "metadata": {},
   "outputs": [
    {
     "name": "stdout",
     "output_type": "stream",
     "text": [
      "key\n",
      "key\n",
      "value\n"
     ]
    }
   ],
   "source": [
    "_dict = {}\n",
    "_dict['key'] = 'value'\n",
    "for item in _dict:\n",
    "    print(item)\n",
    "for item in _dict.keys():\n",
    "    print(item)\n",
    "for item in _dict.values():\n",
    "    print(item)"
   ]
  },
  {
   "cell_type": "code",
   "execution_count": 4,
   "metadata": {},
   "outputs": [
    {
     "data": {
      "text/plain": [
       "True"
      ]
     },
     "execution_count": 4,
     "metadata": {},
     "output_type": "execute_result"
    }
   ],
   "source": [
    "_str = 'asvf'\n",
    "'a' in _str"
   ]
  },
  {
   "cell_type": "code",
   "execution_count": 9,
   "metadata": {},
   "outputs": [
    {
     "name": "stdout",
     "output_type": "stream",
     "text": [
      "[1, 2, 3, 3, 4, 6]\n",
      "[1, 2, 3, 3, 4, 6]\n"
     ]
    }
   ],
   "source": [
    "a = [1,2,3]\n",
    "b = [3,4,6]\n",
    "print(a+b)\n",
    "a.extend(b)\n",
    "print(a)"
   ]
  },
  {
   "cell_type": "code",
   "execution_count": 1,
   "metadata": {},
   "outputs": [],
   "source": [
    "## next permutation.重点是从右往左数。\n",
    "## https://github.com/mengban/leetcode\n",
    "num = [1,2,4,3,5]"
   ]
  },
  {
   "cell_type": "code",
   "execution_count": 3,
   "metadata": {},
   "outputs": [
    {
     "data": {
      "text/plain": [
       "3"
      ]
     },
     "execution_count": 3,
     "metadata": {},
     "output_type": "execute_result"
    }
   ],
   "source": [
    "## roated array search\n",
    "def search(nums, target):\n",
    "        l = 0\n",
    "        r = len(nums)-1\n",
    "\n",
    "        while(r>=l):\n",
    "            mid = (r+l)//2\n",
    "            if nums[mid] == target : # mid 刚好是target\n",
    "                return mid\n",
    "\n",
    "            if nums[l] <= nums[mid]: # 情况1  why nums[l] < nums[mid] don't pass [3 1] 1 对2求整 mid最有可能等于l \n",
    "                if nums[l]<target<nums[mid]:\n",
    "                    r = mid - 1\n",
    "                else:\n",
    "                    l = mid + 1\n",
    "            else:# 情况二\n",
    "                if nums[mid]<target<nums[r]:\n",
    "                    l = mid + 1\n",
    "                else:\n",
    "                    r = mid - 1\n",
    "        return -1\n",
    "search([5,6,7,1,2,3,4],1)"
   ]
  },
  {
   "cell_type": "code",
   "execution_count": 4,
   "metadata": {},
   "outputs": [],
   "source": [
    "### 在循环条件里使用循环体里的值一定要注意循环条件的变化\n",
    "def searchRange(self, nums, target):\n",
    "        \"\"\"\n",
    "        :type nums: List[int]\n",
    "        :type target: int\n",
    "        :rtype: List[int]\n",
    "        \"\"\"\n",
    "        '''\n",
    "        l = len(nums)\n",
    "        if l ==0:\n",
    "            return [-1,-1]\n",
    "        start = 0\n",
    "        end = l-1\n",
    "        while(nums[start] != target and start < l-1):\n",
    "            start += 1\n",
    "        while(nums[end] != target and end >=0):\n",
    "            end -=1\n",
    "\n",
    "        if start > end:\n",
    "            return [-1,-1]\n",
    "        return [start,end]\n",
    "        '''\n",
    "\n",
    "        l = 0\n",
    "        r = len(nums) -1\n",
    "        if r<0:\n",
    "            return [-1,-1] \n",
    "        pos = -1\n",
    "        start = 0\n",
    "        end = 0\n",
    "        while(r>=l):\n",
    "            #print('while')\n",
    "            mid = (l + r) // 2\n",
    "            if nums[mid] == target:\n",
    "                pos = mid\n",
    "                break\n",
    "            elif nums[mid] > target: ##   target mid\n",
    "                r = mid - 1\n",
    "            else:\n",
    "                l = mid + 1\n",
    "                \n",
    "        if pos == -1:\n",
    "            return [-1,-1]\n",
    "        else:\n",
    "            start = pos\n",
    "            end = pos\n",
    "            while start >=0 and nums[start] == target :\n",
    "                start -= 1\n",
    "            while end <=(len(nums)-1) and nums[end] == target:\n",
    "                end += 1\n",
    "        return [start+1,end-1]"
   ]
  },
  {
   "cell_type": "code",
   "execution_count": 16,
   "metadata": {},
   "outputs": [
    {
     "data": {
      "text/plain": [
       "[[2, 2, 2, 2], [2, 3, 3], [3, 5]]"
      ]
     },
     "execution_count": 16,
     "metadata": {},
     "output_type": "execute_result"
    }
   ],
   "source": [
    "'''\n",
    "updated:\n",
    "2019-02-26:\n",
    "优化算法，根据nums中无重复数据的特点 去掉去重步骤。\n",
    "主要改进是将每次循环时的i值作为参数传进去 当遍历到第i个数之和 i之前的数不会再用到。\n",
    "因为如果要用到 则在前面的解中肯定早已将正确解找出。\n",
    "'''\n",
    "class Solution:\n",
    "    def combinationSum(self, candidates, target):\n",
    "        \"\"\"\n",
    "        :type candidates: List[int]\n",
    "        :type target: int\n",
    "        :rtype: List[List[int]]\n",
    "        \"\"\"\n",
    "        path = []\n",
    "        self.ret = []\n",
    "        index = 0\n",
    "        if target in candidates:\n",
    "            self.ret.append([target])\n",
    "        for i in range(index,len(candidates)):\n",
    "            self.func(candidates[i:],target-candidates[i],path + [candidates[i]])\n",
    "        return self.ret\n",
    "\n",
    "\n",
    "    def func(self ,candidates,target,path):\n",
    "        if target <=0:\n",
    "            return None\n",
    "        if target in candidates:\n",
    "            self.ret.append(path+[target])\n",
    "        for i in range(len(candidates)):\n",
    "            self.func(candidates[i:],target-candidates[i],path+[candidates[i]])\n",
    "sol = Solution()\n",
    "sol.combinationSum([2,3,5],8)\n",
    "\n",
    "##https://github.com/mengban/leetcode/blob/master/040-combination-sum-ii/combination-sum-ii.py\n",
    "## 这个还停留于去重阶段"
   ]
  },
  {
   "cell_type": "code",
   "execution_count": 1,
   "metadata": {},
   "outputs": [],
   "source": [
    "### 大数相乘"
   ]
  },
  {
   "cell_type": "code",
   "execution_count": 40,
   "metadata": {},
   "outputs": [
    {
     "name": "stdout",
     "output_type": "stream",
     "text": [
      "无重复元素时的排列: [(1, 2), (1, 3), (1, 3), (2, 1), (2, 3), (2, 3), (3, 1), (3, 2), (3, 3), (3, 1), (3, 2), (3, 3)]\n",
      "无重复元素的组合: [(1, 2), (1, 3), (1, 4), (2, 3), (2, 4), (3, 4)]\n",
      "无重复元素的带放回的组合: [(1, 1), (1, 2), (1, 3), (1, 4), (2, 2), (2, 3), (2, 4), (3, 3), (3, 4), (4, 4)]\n",
      "next_permutations实现的兼容有无重复元素的排列： [[1, 2, 2], [2, 2, 1], [1, 2, 2]]\n"
     ]
    }
   ],
   "source": [
    "### 排列组合问题\n",
    "import itertools\n",
    "print('无重复元素时的排列:',list(itertools.permutations([1,2,3,3],2)))\n",
    "print('无重复元素的组合:',list(itertools.combinations([1,2,3,4],2)))\n",
    "print('无重复元素的带放回的组合:',list(itertools.combinations_with_replacement([1,2,3,4],2)))\n",
    "\n",
    "### 带有重复元素的排列问题\n",
    "## solution1 使用next_permutaion。直接使用给出的list 回到原点结束循环\n",
    "\n",
    "def nextPermutation(nums):\n",
    "        \"\"\"\n",
    "        :type nums: List[int]\n",
    "        :rtype: void Do not return anything, modify nums in-place instead.\n",
    "        \"\"\"\n",
    "        len_ = len(nums)\n",
    "        if len_ > 1:\n",
    "            posa = -1\n",
    "            posb = -1\n",
    "            for i in range(len(nums)): #find a\n",
    "                if nums[len_ -1- i] > nums[len_-1-i-1]:\n",
    "                    posa = len_-1-i-1\n",
    "                    break\n",
    "            if posa != -1:# 不是刚好全逆序\n",
    "                for i in range(len(nums)): #find b\n",
    "                    if nums[posa] < nums[len_-1-i]:\n",
    "                        posb = len_-1-i\n",
    "                        break\n",
    "                #交换值\n",
    "                #print(posa,posb)\n",
    "                if posa!=posb:\n",
    "                    nums[posa] = nums[posa] + nums[posb]\n",
    "                    nums[posb] = nums[posa] - nums[posb]\n",
    "                    nums[posa] = nums[posa] - nums[posb]\n",
    "\n",
    "                first = posa + 1\n",
    "                last = posa + len(nums[posa+1:]) \n",
    "            else:\n",
    "                #print(nums)\n",
    "                first = 0\n",
    "                last = len_ -1\n",
    "            \n",
    "            while(last>first):\n",
    "                #print(nums)\n",
    "                tmp = nums[first]\n",
    "                nums[first] = nums[last]\n",
    "                nums[last] = tmp \n",
    "                first += 1\n",
    "                last -= 1\n",
    "            return nums\n",
    "nums = [1,2,2]\n",
    "ori = nums[:]\n",
    "ret = []\n",
    "memo = nextPermutation(nums)\n",
    "ret.append(memo)\n",
    "while memo != ori:\n",
    "    memo = nextPermutation(memo)\n",
    "    ret.append(memo[:])\n",
    "print('next_permutations实现的兼容有无重复元素的排列：',ret)"
   ]
  },
  {
   "cell_type": "code",
   "execution_count": 47,
   "metadata": {},
   "outputs": [
    {
     "name": "stdout",
     "output_type": "stream",
     "text": [
      "2056694563080\n",
      "2056694563080\n",
      "2056694401736\n"
     ]
    }
   ],
   "source": [
    "[1,2,4,3] != [1,2,3,4]\n",
    "'''\n",
    "验证:f(nums) nums为list 传参还是传引用。\n",
    "结论:这是传引用。所以list作为参数进行传递 一定要小心啊。。。\n",
    "'''\n",
    "nums = [1,2,3]\n",
    "def f(nums):\n",
    "    print(id(nums))\n",
    "print(id(nums))\n",
    "f(nums)   \n",
    "f(nums[:])"
   ]
  },
  {
   "cell_type": "code",
   "execution_count": 3,
   "metadata": {},
   "outputs": [
    {
     "data": {
      "text/plain": [
       "['b', 'c', 'd']"
      ]
     },
     "execution_count": 3,
     "metadata": {},
     "output_type": "execute_result"
    }
   ],
   "source": [
    "sorted('dbc')"
   ]
  },
  {
   "cell_type": "code",
   "execution_count": 15,
   "metadata": {},
   "outputs": [
    {
     "data": {
      "text/plain": [
       "'\\n思路:\\n1.首先将所有字母组合找到:排序 然后set\\n2.遍历所有input 建立hashtable\\n'"
      ]
     },
     "execution_count": 15,
     "metadata": {},
     "output_type": "execute_result"
    }
   ],
   "source": [
    "'''#49'''\n",
    "# Given an array of strings, group anagrams together.\n",
    "#\n",
    "# Example:\n",
    "#\n",
    "#\n",
    "# Input: [\"eat\", \"tea\", \"tan\", \"ate\", \"nat\", \"bat\"],\n",
    "# Output:\n",
    "# [\n",
    "#   [\"ate\",\"eat\",\"tea\"],\n",
    "#   [\"nat\",\"tan\"],\n",
    "#   [\"bat\"]\n",
    "# \n",
    "\n",
    "'''\n",
    "思路:\n",
    "1.首先将所有字母组合找到:排序 然后set\n",
    "2.遍历所有input 建立hashtable\n",
    "'''\n",
    "\n"
   ]
  },
  {
   "cell_type": "code",
   "execution_count": 14,
   "metadata": {},
   "outputs": [
    {
     "data": {
      "text/plain": [
       "0"
      ]
     },
     "execution_count": 14,
     "metadata": {},
     "output_type": "execute_result"
    }
   ],
   "source": [
    "import os\n",
    "os.system(\"jj.bat\")\n",
    "os.system(\"ping baidu.com\")"
   ]
  },
  {
   "cell_type": "code",
   "execution_count": 23,
   "metadata": {},
   "outputs": [
    {
     "name": "stdout",
     "output_type": "stream",
     "text": [
      "[0 4 8 7 6 5 3 2 1]\n",
      "['-', 'i', 'h', 'g', '-', 'f', 'e', 'd', '-']\n",
      "ihgfed\n",
      "4\n",
      "44\n",
      "344\n",
      "2344\n",
      "12344\n",
      "str2float: -1234.4\n"
     ]
    }
   ],
   "source": [
    "### \n",
    "# 新东方。2019-02-28 MobilNnet细节。\n",
    "#第四范式。2019-02-28问了项目及一道编程题。删除字符串前k位 按照从小到大的顺序删。\n",
    "import numpy as np\n",
    "def deleteFirstK(s,k):\n",
    "    x = np.array([ch for ch in s])\n",
    "    index = np.linspace(1,len(s),len(s))\n",
    "    x_index = np.vstack((x,index))\n",
    "    print(x_index.T.argsort(axis= 0)[:,0])\n",
    "    order = x_index.T.argsort(axis= 0)[:,0][k:]\n",
    "    lists = list(s)\n",
    "    for i in range(len(lists)):\n",
    "        if i not in order:\n",
    "            lists[i] = '-'\n",
    "    print(lists)\n",
    "    ret = ''\n",
    "    for item in lists:\n",
    "        if item != '-':\n",
    "            ret += item\n",
    "    return ret\n",
    "print(deleteFirstK(\"aihgbfedc\",3))\n",
    "\n",
    "### 百度实习面试。2019-03-02\n",
    "# 主要问了简历上的东西。SSD网络结构。SSD特点。SSD anchor是怎么确定的？\n",
    "#YOLO系列了解吗？YOLOv3网络结构。FaceNet损失函数。\n",
    "#编程题一道 C语言写字符串转浮点数。一次遍历即可。\n",
    "\n",
    "def str2float(str1):\n",
    "    l = len(str1)\n",
    "    if str1[0] == '-':\n",
    "        return -str2float(str1[1:])\n",
    "    index = -1\n",
    "    ret = 0\n",
    "    for i in range(l):\n",
    "        if str1[l-1-i] =='.':\n",
    "            index = i\n",
    "            continue\n",
    "        if index == -1:\n",
    "            ret += int(str1[l-1-i]) * (10 ** i )\n",
    "        else:\n",
    "            ret += int(str1[l-1-i]) * (10 ** (i-1) )\n",
    "        print(ret)\n",
    "    if index == -1:\n",
    "        return ret\n",
    "    else:\n",
    "        return ret * (0.1** (index))\n",
    "print('str2float:',str2float(\"-1234.4\"))    \n",
    "    \n",
    "\n",
    "    "
   ]
  },
  {
   "cell_type": "code",
   "execution_count": null,
   "metadata": {},
   "outputs": [],
   "source": [
    "\n"
   ]
  },
  {
   "cell_type": "code",
   "execution_count": 79,
   "metadata": {},
   "outputs": [],
   "source": [
    "x = ['-', 's', 'd', 'f', 'e', 'x', '-']\n",
    "x.remove('-')"
   ]
  },
  {
   "cell_type": "code",
   "execution_count": 84,
   "metadata": {},
   "outputs": [
    {
     "name": "stdout",
     "output_type": "stream",
     "text": [
      "1a2\n"
     ]
    }
   ],
   "source": [
    "print('a'.join(['1','2']))"
   ]
  },
  {
   "cell_type": "code",
   "execution_count": 74,
   "metadata": {
    "scrolled": true
   },
   "outputs": [
    {
     "data": {
      "text/plain": [
       "'123'"
      ]
     },
     "execution_count": 74,
     "metadata": {},
     "output_type": "execute_result"
    }
   ],
   "source": [
    "x"
   ]
  },
  {
   "cell_type": "code",
   "execution_count": 75,
   "metadata": {},
   "outputs": [],
   "source": [
    "x = x.join('123')"
   ]
  },
  {
   "cell_type": "code",
   "execution_count": 76,
   "metadata": {},
   "outputs": [
    {
     "data": {
      "text/plain": [
       "'112321233'"
      ]
     },
     "execution_count": 76,
     "metadata": {},
     "output_type": "execute_result"
    }
   ],
   "source": [
    "x"
   ]
  },
  {
   "cell_type": "code",
   "execution_count": 2,
   "metadata": {},
   "outputs": [
    {
     "data": {
      "text/plain": [
       "array([2, 2, 2], dtype=int64)"
      ]
     },
     "execution_count": 2,
     "metadata": {},
     "output_type": "execute_result"
    }
   ],
   "source": [
    "# H(x) = F(x) + (x)\n",
    "# F(x)就是我们说的残差。不去直接学习H(x) 而是去学习残差。\n",
    "# Q:为什么学习残差比直接学习更加容易 A:这只是他们的假设。\n",
    "import numpy as np\n",
    "np.bincount([0,1,2,1,2,0])"
   ]
  },
  {
   "cell_type": "code",
   "execution_count": 8,
   "metadata": {},
   "outputs": [
    {
     "name": "stdout",
     "output_type": "stream",
     "text": [
      "Counter({1: 1, 2: 1, 3: 1})\n",
      "1 1\n",
      "2 1\n",
      "3 1\n"
     ]
    }
   ],
   "source": [
    "from collections import Counter\n",
    "cnt = Counter([1,2,3])\n",
    "print(cnt)\n",
    "for i,j in cnt.items():\n",
    "    print (i ,j)"
   ]
  },
  {
   "cell_type": "markdown",
   "metadata": {},
   "source": [
    "#### 二叉树的遍历\n",
    "#### 按顺序 pre in post\n",
    "- 1 前序遍历和后序遍历不算是反转关系 而是镜像关系。根左右 左右根。可以通过在遍历时改变一下左右顺序即可变换两者。\n",
    "#### 按实现方式 递归 和 非递归\n",
    "- 1 非递归中 中序遍历最简单。见https://github.com/mengban/leetcode/blob/master/094-binary-tree-inorder-traversal/binary-tree-inorder-traversal.py\n",
    "- 2 前序遍历和后序遍历\n",
    "\n",
    "#### 以及深度优先和广度优先"
   ]
  },
  {
   "cell_type": "code",
   "execution_count": 9,
   "metadata": {},
   "outputs": [],
   "source": [
    "### 101 判断两棵树是否same\n",
    "def isSame(p,q):\n",
    "    if p and q:\n",
    "        ret = p.val == q.val and isSame(p.left,q.left) and isSame(p.right,q.right)\n",
    "        return ret\n",
    "    return p and q # p 与q有一个为空 或者全为空\n",
    "\n",
    "### 判断两棵树是否镜像\n",
    "# 树的对称和树的same思路是一样的 \n",
    "# 就是遍历顺序不一样而已\n",
    "# 对称：左节点==右节点\n",
    "# 相等：右节点==左节点\n",
    "\n",
    "def isSys(p,q):\n",
    "    if p and q:\n",
    "        ret = p.val == q.val and isSame(p.left,q.right) and isSys(p.right,q.left)\n",
    "        return ret\n",
    "    return p and q\n",
    "### 判断树 的深度。递归 言简意赅\n",
    "def maxdepth(root):\n",
    "    if not root:\n",
    "        return 0\n",
    "    return maxdepth(p.left,p.right) + 1\n",
    "### sortedArray 转为BST。递归方式 。注意使二分查找树左右子树高度差小于1.所以应该是直接取中间值作为根。\n",
    "### 递归能够正常调用的一个很大原因是因为调用每一个函数都为其开启了新的代码栈 在这个栈里可以完成重复的计算。承接上次计算变量\n",
    "#又可以返回变量供上层递归调用。很多时候是否使用递归完全是感觉出来的，只要符合递归的造作即可:找到递归体  递归结束条件即可。\n",
    "### 树的数据结构由于其定义也是基于递归定义的，所以其具有天生的递归友好性。\n",
    "def sortedArrToTree(nums):\n",
    "    if not nums :\n",
    "        return None #返回空节点\n",
    "    mid = len(nums)//2\n",
    "    root = TreeNode(nums[mid])\n",
    "    l = nums[:mid]\n",
    "    r = nums[mid:]\n",
    "    root.left = sortedArrToTree(l)\n",
    "    root.right = sorrtedArrToTree(r)\n",
    "    return root"
   ]
  },
  {
   "cell_type": "markdown",
   "metadata": {},
   "source": [
    "###  jzoffer字符串的排列\n",
    "#### 涉及到双向map"
   ]
  },
  {
   "cell_type": "code",
   "execution_count": 22,
   "metadata": {},
   "outputs": [
    {
     "name": "stdout",
     "output_type": "stream",
     "text": [
      "['aab', 'aba', 'baa']\n"
     ]
    }
   ],
   "source": [
    "def Permutation(ss):\n",
    "        # write code here\n",
    "    def next_permutation(nums):\n",
    "        l = len(nums)\n",
    "        pos1 = -1\n",
    "        pos2 = -1\n",
    "        for i in range(l - 1):\n",
    "            index = l - 1 - i\n",
    "            if nums[index] > nums[index - 1] :#大于前面的数\n",
    "                pos1 = index - 1\n",
    "                break\n",
    "        if pos1 == -1:\n",
    "            return 'done'\n",
    "        for i in range(l - 1 - pos1):\n",
    "            index = l - 1 - i\n",
    "            if nums[index] > nums[pos1]:\n",
    "                pos2 = index\n",
    "                break\n",
    "\n",
    "        tmp = nums[pos1]\n",
    "        nums[pos1] = nums[pos2]\n",
    "        nums[pos2] = tmp\n",
    "\n",
    "        nums = nums[:pos1 + 1] + nums[pos1 + 1:][::-1]\n",
    "        return nums[:]\n",
    "    if len(ss) == 0 : #长度为0 或者是1 直接返回\n",
    "        return []\n",
    "    if len(ss) == 1:\n",
    "        return [ss]\n",
    "    ret = []\n",
    "    int_ch = {}\n",
    "    for i in range(len(ss)):\n",
    "        if ss[i] in int_ch.values():\n",
    "            continue\n",
    "        else:\n",
    "            int_ch[i + 1] = ss[i]\n",
    "    ch_int = {}\n",
    "    for key ,value in int_ch.items():\n",
    "        ch_int[value] = key\n",
    "    _nums = [ch_int[ch] for ch in ss ]\n",
    "    nextnums = next_permutation(_nums[:])\n",
    "    ret.append(_nums)\n",
    "    while(nextnums != _nums and nextnums != 'done'):\n",
    "        #print(nextnums)\n",
    "        ret.append(nextnums[:])\n",
    "        nextnums = next_permutation(nextnums)\n",
    "    ret_str = []\n",
    "    for _ in ret:\n",
    "        tmp = []\n",
    "        for index in _:\n",
    "            tmp.append(int_ch[index])\n",
    "        ret_str.append(''.join(tmp))\n",
    "    return ret_str\n",
    "print(Permutation('aab'))"
   ]
  },
  {
   "cell_type": "code",
   "execution_count": 3,
   "metadata": {},
   "outputs": [
    {
     "data": {
      "text/plain": [
       "'done'"
      ]
     },
     "execution_count": 3,
     "metadata": {},
     "output_type": "execute_result"
    }
   ],
   "source": [
    "def next_permutation(nums):\n",
    "    l = len(nums)\n",
    "    pos1 = -1\n",
    "    pos2 = -1\n",
    "    for i in range(l - 1):\n",
    "        index = l - 1 - i\n",
    "        if nums[index] > nums[index - 1] :#大于前面的数\n",
    "            pos1 = index - 1\n",
    "            break\n",
    "    for i in range(l - 1 - pos1):\n",
    "        index = l - 1 - i\n",
    "        if nums[index] > nums[pos1]:\n",
    "            pos2 = index\n",
    "            break\n",
    "    if pos1 == -1 :\n",
    "        return 'done'\n",
    "\n",
    "    tmp = nums[pos1]\n",
    "    nums[pos1] = nums[pos2]\n",
    "    nums[pos2] = tmp\n",
    "\n",
    "    nums = nums[:pos1 + 1] + nums[pos1 + 1:][::-1]\n",
    "    return nums[:]\n",
    "next_permutation([3,2,1])"
   ]
  },
  {
   "cell_type": "code",
   "execution_count": null,
   "metadata": {},
   "outputs": [],
   "source": []
  }
 ],
 "metadata": {
  "kernelspec": {
   "display_name": "Python [conda env:tf-gpu]",
   "language": "python",
   "name": "conda-env-tf-gpu-py"
  },
  "language_info": {
   "codemirror_mode": {
    "name": "ipython",
    "version": 3
   },
   "file_extension": ".py",
   "mimetype": "text/x-python",
   "name": "python",
   "nbconvert_exporter": "python",
   "pygments_lexer": "ipython3",
   "version": "3.6.8"
  }
 },
 "nbformat": 4,
 "nbformat_minor": 2
}
