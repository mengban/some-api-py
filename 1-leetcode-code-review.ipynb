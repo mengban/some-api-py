{
 "cells": [
  {
   "cell_type": "code",
   "execution_count": 3,
   "metadata": {},
   "outputs": [
    {
     "name": "stdout",
     "output_type": "stream",
     "text": [
      "key\n",
      "key\n",
      "value\n"
     ]
    }
   ],
   "source": [
    "_dict = {}\n",
    "_dict['key'] = 'value'\n",
    "for item in _dict:\n",
    "    print(item)\n",
    "for item in _dict.keys():\n",
    "    print(item)\n",
    "for item in _dict.values():\n",
    "    print(item)"
   ]
  },
  {
   "cell_type": "code",
   "execution_count": 4,
   "metadata": {},
   "outputs": [
    {
     "data": {
      "text/plain": [
       "True"
      ]
     },
     "execution_count": 4,
     "metadata": {},
     "output_type": "execute_result"
    }
   ],
   "source": [
    "_str = 'asvf'\n",
    "'a' in _str"
   ]
  },
  {
   "cell_type": "code",
   "execution_count": 9,
   "metadata": {},
   "outputs": [
    {
     "name": "stdout",
     "output_type": "stream",
     "text": [
      "[1, 2, 3, 3, 4, 6]\n",
      "[1, 2, 3, 3, 4, 6]\n"
     ]
    }
   ],
   "source": [
    "a = [1,2,3]\n",
    "b = [3,4,6]\n",
    "print(a+b)\n",
    "a.extend(b)\n",
    "print(a)"
   ]
  },
  {
   "cell_type": "code",
   "execution_count": 1,
   "metadata": {},
   "outputs": [],
   "source": [
    "## next permutation.重点是从右往左数。\n",
    "## https://github.com/mengban/leetcode\n",
    "num = [1,2,4,3,5]"
   ]
  },
  {
   "cell_type": "code",
   "execution_count": 3,
   "metadata": {},
   "outputs": [
    {
     "data": {
      "text/plain": [
       "3"
      ]
     },
     "execution_count": 3,
     "metadata": {},
     "output_type": "execute_result"
    }
   ],
   "source": [
    "## roated array search\n",
    "def search(nums, target):\n",
    "        l = 0\n",
    "        r = len(nums)-1\n",
    "\n",
    "        while(r>=l):\n",
    "            mid = (r+l)//2\n",
    "            if nums[mid] == target : # mid 刚好是target\n",
    "                return mid\n",
    "\n",
    "            if nums[l] <= nums[mid]: # 情况1  why nums[l] < nums[mid] don't pass [3 1] 1 对2求整 mid最有可能等于l \n",
    "                if nums[l]<target<nums[mid]:\n",
    "                    r = mid - 1\n",
    "                else:\n",
    "                    l = mid + 1\n",
    "            else:# 情况二\n",
    "                if nums[mid]<target<nums[r]:\n",
    "                    l = mid + 1\n",
    "                else:\n",
    "                    r = mid - 1\n",
    "        return -1\n",
    "search([5,6,7,1,2,3,4],1)"
   ]
  },
  {
   "cell_type": "code",
   "execution_count": 4,
   "metadata": {},
   "outputs": [],
   "source": [
    "### 在循环条件里使用循环体里的值一定要注意循环条件的变化\n",
    "def searchRange(self, nums, target):\n",
    "        \"\"\"\n",
    "        :type nums: List[int]\n",
    "        :type target: int\n",
    "        :rtype: List[int]\n",
    "        \"\"\"\n",
    "        '''\n",
    "        l = len(nums)\n",
    "        if l ==0:\n",
    "            return [-1,-1]\n",
    "        start = 0\n",
    "        end = l-1\n",
    "        while(nums[start] != target and start < l-1):\n",
    "            start += 1\n",
    "        while(nums[end] != target and end >=0):\n",
    "            end -=1\n",
    "\n",
    "        if start > end:\n",
    "            return [-1,-1]\n",
    "        return [start,end]\n",
    "        '''\n",
    "\n",
    "        l = 0\n",
    "        r = len(nums) -1\n",
    "        if r<0:\n",
    "            return [-1,-1] \n",
    "        pos = -1\n",
    "        start = 0\n",
    "        end = 0\n",
    "        while(r>=l):\n",
    "            #print('while')\n",
    "            mid = (l + r) // 2\n",
    "            if nums[mid] == target:\n",
    "                pos = mid\n",
    "                break\n",
    "            elif nums[mid] > target: ##   target mid\n",
    "                r = mid - 1\n",
    "            else:\n",
    "                l = mid + 1\n",
    "                \n",
    "        if pos == -1:\n",
    "            return [-1,-1]\n",
    "        else:\n",
    "            start = pos\n",
    "            end = pos\n",
    "            while start >=0 and nums[start] == target :\n",
    "                start -= 1\n",
    "            while end <=(len(nums)-1) and nums[end] == target:\n",
    "                end += 1\n",
    "        return [start+1,end-1]"
   ]
  },
  {
   "cell_type": "code",
   "execution_count": 16,
   "metadata": {},
   "outputs": [
    {
     "data": {
      "text/plain": [
       "[[2, 2, 2, 2], [2, 3, 3], [3, 5]]"
      ]
     },
     "execution_count": 16,
     "metadata": {},
     "output_type": "execute_result"
    }
   ],
   "source": [
    "'''\n",
    "updated:\n",
    "2019-02-26:\n",
    "优化算法，根据nums中无重复数据的特点 去掉去重步骤。\n",
    "主要改进是将每次循环时的i值作为参数传进去 当遍历到第i个数之和 i之前的数不会再用到。\n",
    "因为如果要用到 则在前面的解中肯定早已将正确解找出。\n",
    "'''\n",
    "class Solution:\n",
    "    def combinationSum(self, candidates, target):\n",
    "        \"\"\"\n",
    "        :type candidates: List[int]\n",
    "        :type target: int\n",
    "        :rtype: List[List[int]]\n",
    "        \"\"\"\n",
    "        path = []\n",
    "        self.ret = []\n",
    "        index = 0\n",
    "        if target in candidates:\n",
    "            self.ret.append([target])\n",
    "        for i in range(index,len(candidates)):\n",
    "            self.func(candidates[i:],target-candidates[i],path + [candidates[i]])\n",
    "        return self.ret\n",
    "\n",
    "\n",
    "    def func(self ,candidates,target,path):\n",
    "        if target <=0:\n",
    "            return None\n",
    "        if target in candidates:\n",
    "            self.ret.append(path+[target])\n",
    "        for i in range(len(candidates)):\n",
    "            self.func(candidates[i:],target-candidates[i],path+[candidates[i]])\n",
    "sol = Solution()\n",
    "sol.combinationSum([2,3,5],8)\n",
    "\n",
    "##https://github.com/mengban/leetcode/blob/master/040-combination-sum-ii/combination-sum-ii.py\n",
    "## 这个还停留于去重阶段"
   ]
  },
  {
   "cell_type": "code",
   "execution_count": null,
   "metadata": {},
   "outputs": [],
   "source": [
    "### 大数相乘"
   ]
  }
 ],
 "metadata": {
  "kernelspec": {
   "display_name": "Python [conda env:tf-gpu]",
   "language": "python",
   "name": "conda-env-tf-gpu-py"
  },
  "language_info": {
   "codemirror_mode": {
    "name": "ipython",
    "version": 3
   },
   "file_extension": ".py",
   "mimetype": "text/x-python",
   "name": "python",
   "nbconvert_exporter": "python",
   "pygments_lexer": "ipython3",
   "version": "3.6.8"
  }
 },
 "nbformat": 4,
 "nbformat_minor": 2
}
