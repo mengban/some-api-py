{
 "cells": [
  {
   "cell_type": "code",
   "execution_count": 3,
   "metadata": {},
   "outputs": [
    {
     "name": "stdout",
     "output_type": "stream",
     "text": [
      "key\n",
      "key\n",
      "value\n"
     ]
    }
   ],
   "source": [
    "_dict = {}\n",
    "_dict['key'] = 'value'\n",
    "for item in _dict:\n",
    "    print(item)\n",
    "for item in _dict.keys():\n",
    "    print(item)\n",
    "for item in _dict.values():\n",
    "    print(item)"
   ]
  },
  {
   "cell_type": "code",
   "execution_count": 4,
   "metadata": {},
   "outputs": [
    {
     "data": {
      "text/plain": [
       "True"
      ]
     },
     "execution_count": 4,
     "metadata": {},
     "output_type": "execute_result"
    }
   ],
   "source": [
    "_str = 'asvf'\n",
    "'a' in _str"
   ]
  },
  {
   "cell_type": "code",
   "execution_count": 9,
   "metadata": {},
   "outputs": [
    {
     "name": "stdout",
     "output_type": "stream",
     "text": [
      "[1, 2, 3, 3, 4, 6]\n",
      "[1, 2, 3, 3, 4, 6]\n"
     ]
    }
   ],
   "source": [
    "a = [1,2,3]\n",
    "b = [3,4,6]\n",
    "print(a+b)\n",
    "a.extend(b)\n",
    "print(a)"
   ]
  },
  {
   "cell_type": "code",
   "execution_count": 1,
   "metadata": {},
   "outputs": [],
   "source": [
    "## next permutation.重点是从右往左数。\n",
    "## https://github.com/mengban/leetcode\n",
    "num = [1,2,4,3,5]"
   ]
  },
  {
   "cell_type": "code",
   "execution_count": 3,
   "metadata": {},
   "outputs": [
    {
     "data": {
      "text/plain": [
       "3"
      ]
     },
     "execution_count": 3,
     "metadata": {},
     "output_type": "execute_result"
    }
   ],
   "source": [
    "## roated array search\n",
    "def search(nums, target):\n",
    "        l = 0\n",
    "        r = len(nums)-1\n",
    "\n",
    "        while(r>=l):\n",
    "            mid = (r+l)//2\n",
    "            if nums[mid] == target : # mid 刚好是target\n",
    "                return mid\n",
    "\n",
    "            if nums[l] <= nums[mid]: # 情况1  why nums[l] < nums[mid] don't pass [3 1] 1 对2求整 mid最有可能等于l \n",
    "                if nums[l]<target<nums[mid]:\n",
    "                    r = mid - 1\n",
    "                else:\n",
    "                    l = mid + 1\n",
    "            else:# 情况二\n",
    "                if nums[mid]<target<nums[r]:\n",
    "                    l = mid + 1\n",
    "                else:\n",
    "                    r = mid - 1\n",
    "        return -1\n",
    "search([5,6,7,1,2,3,4],1)"
   ]
  },
  {
   "cell_type": "code",
   "execution_count": 4,
   "metadata": {},
   "outputs": [],
   "source": [
    "### 在循环条件里使用循环体里的值一定要注意循环条件的变化\n",
    "def searchRange(self, nums, target):\n",
    "        \"\"\"\n",
    "        :type nums: List[int]\n",
    "        :type target: int\n",
    "        :rtype: List[int]\n",
    "        \"\"\"\n",
    "        '''\n",
    "        l = len(nums)\n",
    "        if l ==0:\n",
    "            return [-1,-1]\n",
    "        start = 0\n",
    "        end = l-1\n",
    "        while(nums[start] != target and start < l-1):\n",
    "            start += 1\n",
    "        while(nums[end] != target and end >=0):\n",
    "            end -=1\n",
    "\n",
    "        if start > end:\n",
    "            return [-1,-1]\n",
    "        return [start,end]\n",
    "        '''\n",
    "\n",
    "        l = 0\n",
    "        r = len(nums) -1\n",
    "        if r<0:\n",
    "            return [-1,-1] \n",
    "        pos = -1\n",
    "        start = 0\n",
    "        end = 0\n",
    "        while(r>=l):\n",
    "            #print('while')\n",
    "            mid = (l + r) // 2\n",
    "            if nums[mid] == target:\n",
    "                pos = mid\n",
    "                break\n",
    "            elif nums[mid] > target: ##   target mid\n",
    "                r = mid - 1\n",
    "            else:\n",
    "                l = mid + 1\n",
    "                \n",
    "        if pos == -1:\n",
    "            return [-1,-1]\n",
    "        else:\n",
    "            start = pos\n",
    "            end = pos\n",
    "            while start >=0 and nums[start] == target :\n",
    "                start -= 1\n",
    "            while end <=(len(nums)-1) and nums[end] == target:\n",
    "                end += 1\n",
    "        return [start+1,end-1]"
   ]
  },
  {
   "cell_type": "code",
   "execution_count": 16,
   "metadata": {},
   "outputs": [
    {
     "data": {
      "text/plain": [
       "[[2, 2, 2, 2], [2, 3, 3], [3, 5]]"
      ]
     },
     "execution_count": 16,
     "metadata": {},
     "output_type": "execute_result"
    }
   ],
   "source": [
    "'''\n",
    "updated:\n",
    "2019-02-26:\n",
    "优化算法，根据nums中无重复数据的特点 去掉去重步骤。\n",
    "主要改进是将每次循环时的i值作为参数传进去 当遍历到第i个数之和 i之前的数不会再用到。\n",
    "因为如果要用到 则在前面的解中肯定早已将正确解找出。\n",
    "'''\n",
    "class Solution:\n",
    "    def combinationSum(self, candidates, target):\n",
    "        \"\"\"\n",
    "        :type candidates: List[int]\n",
    "        :type target: int\n",
    "        :rtype: List[List[int]]\n",
    "        \"\"\"\n",
    "        path = []\n",
    "        self.ret = []\n",
    "        index = 0\n",
    "        if target in candidates:\n",
    "            self.ret.append([target])\n",
    "        for i in range(index,len(candidates)):\n",
    "            self.func(candidates[i:],target-candidates[i],path + [candidates[i]])\n",
    "        return self.ret\n",
    "\n",
    "\n",
    "    def func(self ,candidates,target,path):\n",
    "        if target <=0:\n",
    "            return None\n",
    "        if target in candidates:\n",
    "            self.ret.append(path+[target])\n",
    "        for i in range(len(candidates)):\n",
    "            self.func(candidates[i:],target-candidates[i],path+[candidates[i]])\n",
    "sol = Solution()\n",
    "sol.combinationSum([2,3,5],8)\n",
    "\n",
    "##https://github.com/mengban/leetcode/blob/master/040-combination-sum-ii/combination-sum-ii.py\n",
    "## 这个还停留于去重阶段"
   ]
  },
  {
   "cell_type": "code",
   "execution_count": 1,
   "metadata": {},
   "outputs": [],
   "source": [
    "### 大数相乘"
   ]
  },
  {
   "cell_type": "code",
   "execution_count": 40,
   "metadata": {},
   "outputs": [
    {
     "name": "stdout",
     "output_type": "stream",
     "text": [
      "无重复元素时的排列: [(1, 2), (1, 3), (1, 3), (2, 1), (2, 3), (2, 3), (3, 1), (3, 2), (3, 3), (3, 1), (3, 2), (3, 3)]\n",
      "无重复元素的组合: [(1, 2), (1, 3), (1, 4), (2, 3), (2, 4), (3, 4)]\n",
      "无重复元素的带放回的组合: [(1, 1), (1, 2), (1, 3), (1, 4), (2, 2), (2, 3), (2, 4), (3, 3), (3, 4), (4, 4)]\n",
      "next_permutations实现的兼容有无重复元素的排列： [[1, 2, 2], [2, 2, 1], [1, 2, 2]]\n"
     ]
    }
   ],
   "source": [
    "### 排列组合问题\n",
    "import itertools\n",
    "print('无重复元素时的排列:',list(itertools.permutations([1,2,3,3],2)))\n",
    "print('无重复元素的组合:',list(itertools.combinations([1,2,3,4],2)))\n",
    "print('无重复元素的带放回的组合:',list(itertools.combinations_with_replacement([1,2,3,4],2)))\n",
    "\n",
    "### 带有重复元素的排列问题\n",
    "## solution1 使用next_permutaion。直接使用给出的list 回到原点结束循环\n",
    "\n",
    "def nextPermutation(nums):\n",
    "        \"\"\"\n",
    "        :type nums: List[int]\n",
    "        :rtype: void Do not return anything, modify nums in-place instead.\n",
    "        \"\"\"\n",
    "        len_ = len(nums)\n",
    "        if len_ > 1:\n",
    "            posa = -1\n",
    "            posb = -1\n",
    "            for i in range(len(nums)): #find a\n",
    "                if nums[len_ -1- i] > nums[len_-1-i-1]:\n",
    "                    posa = len_-1-i-1\n",
    "                    break\n",
    "            if posa != -1:# 不是刚好全逆序\n",
    "                for i in range(len(nums)): #find b\n",
    "                    if nums[posa] < nums[len_-1-i]:\n",
    "                        posb = len_-1-i\n",
    "                        break\n",
    "                #交换值\n",
    "                #print(posa,posb)\n",
    "                if posa!=posb:\n",
    "                    nums[posa] = nums[posa] + nums[posb]\n",
    "                    nums[posb] = nums[posa] - nums[posb]\n",
    "                    nums[posa] = nums[posa] - nums[posb]\n",
    "\n",
    "                first = posa + 1\n",
    "                last = posa + len(nums[posa+1:]) \n",
    "            else:\n",
    "                #print(nums)\n",
    "                first = 0\n",
    "                last = len_ -1\n",
    "            \n",
    "            while(last>first):\n",
    "                #print(nums)\n",
    "                tmp = nums[first]\n",
    "                nums[first] = nums[last]\n",
    "                nums[last] = tmp \n",
    "                first += 1\n",
    "                last -= 1\n",
    "            return nums\n",
    "nums = [1,2,2]\n",
    "ori = nums[:]\n",
    "ret = []\n",
    "memo = nextPermutation(nums)\n",
    "ret.append(memo)\n",
    "while memo != ori:\n",
    "    memo = nextPermutation(memo)\n",
    "    ret.append(memo[:])\n",
    "print('next_permutations实现的兼容有无重复元素的排列：',ret)"
   ]
  },
  {
   "cell_type": "code",
   "execution_count": 47,
   "metadata": {},
   "outputs": [
    {
     "name": "stdout",
     "output_type": "stream",
     "text": [
      "2056694563080\n",
      "2056694563080\n",
      "2056694401736\n"
     ]
    }
   ],
   "source": [
    "[1,2,4,3] != [1,2,3,4]\n",
    "'''\n",
    "验证:f(nums) nums为list 传参还是传引用。\n",
    "结论:这是传引用。所以list作为参数进行传递 一定要小心啊。。。\n",
    "'''\n",
    "nums = [1,2,3]\n",
    "def f(nums):\n",
    "    print(id(nums))\n",
    "print(id(nums))\n",
    "f(nums)   \n",
    "f(nums[:])"
   ]
  },
  {
   "cell_type": "code",
   "execution_count": 3,
   "metadata": {},
   "outputs": [
    {
     "data": {
      "text/plain": [
       "['b', 'c', 'd']"
      ]
     },
     "execution_count": 3,
     "metadata": {},
     "output_type": "execute_result"
    }
   ],
   "source": [
    "sorted('dbc')"
   ]
  },
  {
   "cell_type": "code",
   "execution_count": 15,
   "metadata": {},
   "outputs": [
    {
     "data": {
      "text/plain": [
       "'\\n思路:\\n1.首先将所有字母组合找到:排序 然后set\\n2.遍历所有input 建立hashtable\\n'"
      ]
     },
     "execution_count": 15,
     "metadata": {},
     "output_type": "execute_result"
    }
   ],
   "source": [
    "'''#49'''\n",
    "# Given an array of strings, group anagrams together.\n",
    "#\n",
    "# Example:\n",
    "#\n",
    "#\n",
    "# Input: [\"eat\", \"tea\", \"tan\", \"ate\", \"nat\", \"bat\"],\n",
    "# Output:\n",
    "# [\n",
    "#   [\"ate\",\"eat\",\"tea\"],\n",
    "#   [\"nat\",\"tan\"],\n",
    "#   [\"bat\"]\n",
    "# \n",
    "\n",
    "'''\n",
    "思路:\n",
    "1.首先将所有字母组合找到:排序 然后set\n",
    "2.遍历所有input 建立hashtable\n",
    "'''\n",
    "\n"
   ]
  },
  {
   "cell_type": "code",
   "execution_count": 14,
   "metadata": {},
   "outputs": [
    {
     "data": {
      "text/plain": [
       "0"
      ]
     },
     "execution_count": 14,
     "metadata": {},
     "output_type": "execute_result"
    }
   ],
   "source": [
    "import os\n",
    "os.system(\"jj.bat\")\n",
    "os.system(\"ping baidu.com\")"
   ]
  },
  {
   "cell_type": "code",
   "execution_count": null,
   "metadata": {},
   "outputs": [],
   "source": []
  }
 ],
 "metadata": {
  "kernelspec": {
   "display_name": "Python [conda env:tf-gpu]",
   "language": "python",
   "name": "conda-env-tf-gpu-py"
  },
  "language_info": {
   "codemirror_mode": {
    "name": "ipython",
    "version": 3
   },
   "file_extension": ".py",
   "mimetype": "text/x-python",
   "name": "python",
   "nbconvert_exporter": "python",
   "pygments_lexer": "ipython3",
   "version": "3.6.8"
  }
 },
 "nbformat": 4,
 "nbformat_minor": 2
}
