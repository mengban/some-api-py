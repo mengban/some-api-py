{
 "cells": [
  {
   "cell_type": "code",
   "execution_count": 3,
   "metadata": {},
   "outputs": [
    {
     "name": "stdout",
     "output_type": "stream",
     "text": [
      "key\n",
      "key\n",
      "value\n"
     ]
    }
   ],
   "source": [
    "_dict = {}\n",
    "_dict['key'] = 'value'\n",
    "for item in _dict:\n",
    "    print(item)\n",
    "for item in _dict.keys():\n",
    "    print(item)\n",
    "for item in _dict.values():\n",
    "    print(item)"
   ]
  },
  {
   "cell_type": "code",
   "execution_count": 4,
   "metadata": {},
   "outputs": [
    {
     "data": {
      "text/plain": [
       "True"
      ]
     },
     "execution_count": 4,
     "metadata": {},
     "output_type": "execute_result"
    }
   ],
   "source": [
    "_str = 'asvf'\n",
    "'a' in _str"
   ]
  },
  {
   "cell_type": "code",
   "execution_count": 9,
   "metadata": {},
   "outputs": [
    {
     "name": "stdout",
     "output_type": "stream",
     "text": [
      "[1, 2, 3, 3, 4, 6]\n",
      "[1, 2, 3, 3, 4, 6]\n"
     ]
    }
   ],
   "source": [
    "a = [1,2,3]\n",
    "b = [3,4,6]\n",
    "print(a+b)\n",
    "a.extend(b)\n",
    "print(a)"
   ]
  },
  {
   "cell_type": "code",
   "execution_count": 1,
   "metadata": {},
   "outputs": [],
   "source": [
    "## next permutation.重点是从右往左数。\n",
    "## https://github.com/mengban/leetcode\n",
    "num = [1,2,4,3,5]"
   ]
  },
  {
   "cell_type": "code",
   "execution_count": 3,
   "metadata": {},
   "outputs": [
    {
     "data": {
      "text/plain": [
       "3"
      ]
     },
     "execution_count": 3,
     "metadata": {},
     "output_type": "execute_result"
    }
   ],
   "source": [
    "## roated array search\n",
    "def search(nums, target):\n",
    "        l = 0\n",
    "        r = len(nums)-1\n",
    "\n",
    "        while(r>=l):\n",
    "            mid = (r+l)//2\n",
    "            if nums[mid] == target : # mid 刚好是target\n",
    "                return mid\n",
    "\n",
    "            if nums[l] <= nums[mid]: # 情况1  why nums[l] < nums[mid] don't pass [3 1] 1 对2求整 mid最有可能等于l \n",
    "                if nums[l]<target<nums[mid]:\n",
    "                    r = mid - 1\n",
    "                else:\n",
    "                    l = mid + 1\n",
    "            else:# 情况二\n",
    "                if nums[mid]<target<nums[r]:\n",
    "                    l = mid + 1\n",
    "                else:\n",
    "                    r = mid - 1\n",
    "        return -1\n",
    "search([5,6,7,1,2,3,4],1)"
   ]
  },
  {
   "cell_type": "code",
   "execution_count": 4,
   "metadata": {},
   "outputs": [],
   "source": [
    "### 在循环条件里使用循环体里的值一定要注意循环条件的变化\n",
    "def searchRange(self, nums, target):\n",
    "        \"\"\"\n",
    "        :type nums: List[int]\n",
    "        :type target: int\n",
    "        :rtype: List[int]\n",
    "        \"\"\"\n",
    "        '''\n",
    "        l = len(nums)\n",
    "        if l ==0:\n",
    "            return [-1,-1]\n",
    "        start = 0\n",
    "        end = l-1\n",
    "        while(nums[start] != target and start < l-1):\n",
    "            start += 1\n",
    "        while(nums[end] != target and end >=0):\n",
    "            end -=1\n",
    "\n",
    "        if start > end:\n",
    "            return [-1,-1]\n",
    "        return [start,end]\n",
    "        '''\n",
    "\n",
    "        l = 0\n",
    "        r = len(nums) -1\n",
    "        if r<0:\n",
    "            return [-1,-1] \n",
    "        pos = -1\n",
    "        start = 0\n",
    "        end = 0\n",
    "        while(r>=l):\n",
    "            #print('while')\n",
    "            mid = (l + r) // 2\n",
    "            if nums[mid] == target:\n",
    "                pos = mid\n",
    "                break\n",
    "            elif nums[mid] > target: ##   target mid\n",
    "                r = mid - 1\n",
    "            else:\n",
    "                l = mid + 1\n",
    "                \n",
    "        if pos == -1:\n",
    "            return [-1,-1]\n",
    "        else:\n",
    "            start = pos\n",
    "            end = pos\n",
    "            while start >=0 and nums[start] == target :\n",
    "                start -= 1\n",
    "            while end <=(len(nums)-1) and nums[end] == target:\n",
    "                end += 1\n",
    "        return [start+1,end-1]"
   ]
  },
  {
   "cell_type": "code",
   "execution_count": 16,
   "metadata": {},
   "outputs": [
    {
     "data": {
      "text/plain": [
       "[[2, 2, 2, 2], [2, 3, 3], [3, 5]]"
      ]
     },
     "execution_count": 16,
     "metadata": {},
     "output_type": "execute_result"
    }
   ],
   "source": [
    "'''\n",
    "updated:\n",
    "2019-02-26:\n",
    "优化算法，根据nums中无重复数据的特点 去掉去重步骤。\n",
    "主要改进是将每次循环时的i值作为参数传进去 当遍历到第i个数之和 i之前的数不会再用到。\n",
    "因为如果要用到 则在前面的解中肯定早已将正确解找出。\n",
    "'''\n",
    "class Solution:\n",
    "    def combinationSum(self, candidates, target):\n",
    "        \"\"\"\n",
    "        :type candidates: List[int]\n",
    "        :type target: int\n",
    "        :rtype: List[List[int]]\n",
    "        \"\"\"\n",
    "        path = []\n",
    "        self.ret = []\n",
    "        index = 0\n",
    "        if target in candidates:\n",
    "            self.ret.append([target])\n",
    "        for i in range(index,len(candidates)):\n",
    "            self.func(candidates[i:],target-candidates[i],path + [candidates[i]])\n",
    "        return self.ret\n",
    "\n",
    "\n",
    "    def func(self ,candidates,target,path):\n",
    "        if target <=0:\n",
    "            return None\n",
    "        if target in candidates:\n",
    "            self.ret.append(path+[target])\n",
    "        for i in range(len(candidates)):\n",
    "            self.func(candidates[i:],target-candidates[i],path+[candidates[i]])\n",
    "sol = Solution()\n",
    "sol.combinationSum([2,3,5],8)\n",
    "\n",
    "##https://github.com/mengban/leetcode/blob/master/040-combination-sum-ii/combination-sum-ii.py\n",
    "## 这个还停留于去重阶段"
   ]
  },
  {
   "cell_type": "code",
   "execution_count": 1,
   "metadata": {},
   "outputs": [],
   "source": [
    "### 大数相乘"
   ]
  },
  {
   "cell_type": "code",
   "execution_count": 40,
   "metadata": {},
   "outputs": [
    {
     "name": "stdout",
     "output_type": "stream",
     "text": [
      "无重复元素时的排列: [(1, 2), (1, 3), (1, 3), (2, 1), (2, 3), (2, 3), (3, 1), (3, 2), (3, 3), (3, 1), (3, 2), (3, 3)]\n",
      "无重复元素的组合: [(1, 2), (1, 3), (1, 4), (2, 3), (2, 4), (3, 4)]\n",
      "无重复元素的带放回的组合: [(1, 1), (1, 2), (1, 3), (1, 4), (2, 2), (2, 3), (2, 4), (3, 3), (3, 4), (4, 4)]\n",
      "next_permutations实现的兼容有无重复元素的排列： [[1, 2, 2], [2, 2, 1], [1, 2, 2]]\n"
     ]
    }
   ],
   "source": [
    "### 排列组合问题\n",
    "import itertools\n",
    "print('无重复元素时的排列:',list(itertools.permutations([1,2,3,3],2)))\n",
    "print('无重复元素的组合:',list(itertools.combinations([1,2,3,4],2)))\n",
    "print('无重复元素的带放回的组合:',list(itertools.combinations_with_replacement([1,2,3,4],2)))\n",
    "\n",
    "### 带有重复元素的排列问题\n",
    "## solution1 使用next_permutaion。直接使用给出的list 回到原点结束循环\n",
    "\n",
    "def nextPermutation(nums):\n",
    "        \"\"\"\n",
    "        :type nums: List[int]\n",
    "        :rtype: void Do not return anything, modify nums in-place instead.\n",
    "        \"\"\"\n",
    "        len_ = len(nums)\n",
    "        if len_ > 1:\n",
    "            posa = -1\n",
    "            posb = -1\n",
    "            for i in range(len(nums)): #find a\n",
    "                if nums[len_ -1- i] > nums[len_-1-i-1]:\n",
    "                    posa = len_-1-i-1\n",
    "                    break\n",
    "            if posa != -1:# 不是刚好全逆序\n",
    "                for i in range(len(nums)): #find b\n",
    "                    if nums[posa] < nums[len_-1-i]:\n",
    "                        posb = len_-1-i\n",
    "                        break\n",
    "                #交换值\n",
    "                #print(posa,posb)\n",
    "                if posa!=posb:\n",
    "                    nums[posa] = nums[posa] + nums[posb]\n",
    "                    nums[posb] = nums[posa] - nums[posb]\n",
    "                    nums[posa] = nums[posa] - nums[posb]\n",
    "\n",
    "                first = posa + 1\n",
    "                last = posa + len(nums[posa+1:]) \n",
    "            else:\n",
    "                #print(nums)\n",
    "                first = 0\n",
    "                last = len_ -1\n",
    "            \n",
    "            while(last>first):\n",
    "                #print(nums)\n",
    "                tmp = nums[first]\n",
    "                nums[first] = nums[last]\n",
    "                nums[last] = tmp \n",
    "                first += 1\n",
    "                last -= 1\n",
    "            return nums\n",
    "nums = [1,2,2]\n",
    "ori = nums[:]\n",
    "ret = []\n",
    "memo = nextPermutation(nums)\n",
    "ret.append(memo)\n",
    "while memo != ori:\n",
    "    memo = nextPermutation(memo)\n",
    "    ret.append(memo[:])\n",
    "print('next_permutations实现的兼容有无重复元素的排列：',ret)"
   ]
  },
  {
   "cell_type": "code",
   "execution_count": 47,
   "metadata": {},
   "outputs": [
    {
     "name": "stdout",
     "output_type": "stream",
     "text": [
      "2056694563080\n",
      "2056694563080\n",
      "2056694401736\n"
     ]
    }
   ],
   "source": [
    "[1,2,4,3] != [1,2,3,4]\n",
    "'''\n",
    "验证:f(nums) nums为list 传参还是传引用。\n",
    "结论:这是传引用。所以list作为参数进行传递 一定要小心啊。。。\n",
    "'''\n",
    "nums = [1,2,3]\n",
    "def f(nums):\n",
    "    print(id(nums))\n",
    "print(id(nums))\n",
    "f(nums)   \n",
    "f(nums[:])"
   ]
  },
  {
   "cell_type": "code",
   "execution_count": 3,
   "metadata": {},
   "outputs": [
    {
     "data": {
      "text/plain": [
       "['b', 'c', 'd']"
      ]
     },
     "execution_count": 3,
     "metadata": {},
     "output_type": "execute_result"
    }
   ],
   "source": [
    "sorted('dbc')"
   ]
  },
  {
   "cell_type": "code",
   "execution_count": 15,
   "metadata": {},
   "outputs": [
    {
     "data": {
      "text/plain": [
       "'\\n思路:\\n1.首先将所有字母组合找到:排序 然后set\\n2.遍历所有input 建立hashtable\\n'"
      ]
     },
     "execution_count": 15,
     "metadata": {},
     "output_type": "execute_result"
    }
   ],
   "source": [
    "'''#49'''\n",
    "# Given an array of strings, group anagrams together.\n",
    "#\n",
    "# Example:\n",
    "#\n",
    "#\n",
    "# Input: [\"eat\", \"tea\", \"tan\", \"ate\", \"nat\", \"bat\"],\n",
    "# Output:\n",
    "# [\n",
    "#   [\"ate\",\"eat\",\"tea\"],\n",
    "#   [\"nat\",\"tan\"],\n",
    "#   [\"bat\"]\n",
    "# \n",
    "\n",
    "'''\n",
    "思路:\n",
    "1.首先将所有字母组合找到:排序 然后set\n",
    "2.遍历所有input 建立hashtable\n",
    "'''\n",
    "\n"
   ]
  },
  {
   "cell_type": "code",
   "execution_count": 14,
   "metadata": {},
   "outputs": [
    {
     "data": {
      "text/plain": [
       "0"
      ]
     },
     "execution_count": 14,
     "metadata": {},
     "output_type": "execute_result"
    }
   ],
   "source": [
    "import os\n",
    "os.system(\"jj.bat\")\n",
    "os.system(\"ping baidu.com\")"
   ]
  },
  {
   "cell_type": "code",
   "execution_count": 23,
   "metadata": {},
   "outputs": [
    {
     "name": "stdout",
     "output_type": "stream",
     "text": [
      "[0 4 8 7 6 5 3 2 1]\n",
      "['-', 'i', 'h', 'g', '-', 'f', 'e', 'd', '-']\n",
      "ihgfed\n",
      "4\n",
      "44\n",
      "344\n",
      "2344\n",
      "12344\n",
      "str2float: -1234.4\n"
     ]
    }
   ],
   "source": [
    "### \n",
    "# 新东方。2019-02-28 MobilNnet细节。\n",
    "# padding 参数 same和valid的区别。\n",
    "First, consider the 'SAME' padding scheme. A detailed explanation of the reasoning behind it is given in these notes. Here, we summarize the mechanics of this padding scheme. When using 'SAME', the output height and width are computed as:\n",
    "\n",
    "out_height = ceil(float(in_height) / float(strides[1]))\n",
    "out_width  = ceil(float(in_width) / float(strides[2]))\n",
    "\n",
    "The total padding applied along the height and width is computed as:\n",
    "\n",
    "if (in_height % strides[1] == 0):\n",
    "  pad_along_height = max(filter_height - strides[1], 0)\n",
    "else:\n",
    "  pad_along_height = max(filter_height - (in_height % strides[1]), 0)\n",
    "if (in_width % strides[2] == 0):\n",
    "  pad_along_width = max(filter_width - strides[2], 0)\n",
    "else:\n",
    "  pad_along_width = max(filter_width - (in_width % strides[2]), 0)\n",
    "\n",
    "Finally, the padding on the top, bottom, left and right are:\n",
    "\n",
    "pad_top = pad_along_height // 2\n",
    "pad_bottom = pad_along_height - pad_top\n",
    "pad_left = pad_along_width // 2\n",
    "pad_right = pad_along_width - pad_left\n",
    "\n",
    "Note that the division by 2 means that there might be cases when the padding on both sides (top vs bottom, right vs left) are off by one. In this case, the bottom and right sides always get the one additional padded pixel. For example, when pad_along_height is 5, we pad 2 pixels at the top and 3 pixels at the bottom. Note that this is different from existing libraries such as cuDNN and Caffe, which explicitly specify the number of padded pixels and always pad the same number of pixels on both sides.\n",
    "\n",
    "For the 'VALID' scheme, the output height and width are computed as:\n",
    "\n",
    "out_height = ceil(float(in_height - filter_height + 1) / float(strides[1]))\n",
    "out_width  = ceil(float(in_width - filter_width + 1) / float(strides[2]))\n",
    "\n",
    "and no padding is used.\n",
    "\n",
    "\n",
    "#第四范式。2019-02-28问了项目及一道编程题。删除字符串前k位 按照从小到大的顺序删。\n",
    "import numpy as np\n",
    "def deleteFirstK(s,k):\n",
    "    x = np.array([ch for ch in s])\n",
    "    index = np.linspace(1,len(s),len(s))\n",
    "    x_index = np.vstack((x,index))\n",
    "    print(x_index.T.argsort(axis= 0)[:,0])\n",
    "    order = x_index.T.argsort(axis= 0)[:,0][k:]\n",
    "    lists = list(s)\n",
    "    for i in range(len(lists)):\n",
    "        if i not in order:\n",
    "            lists[i] = '-'\n",
    "    print(lists)\n",
    "    ret = ''\n",
    "    for item in lists:\n",
    "        if item != '-':\n",
    "            ret += item\n",
    "    return ret\n",
    "print(deleteFirstK(\"aihgbfedc\",3))\n",
    "\n",
    "### 百度实习面试。2019-03-02\n",
    "# 主要问了简历上的东西。SSD网络结构。SSD特点。SSD anchor是怎么确定的？\n",
    "#YOLO系列了解吗？YOLOv3网络结构。FaceNet损失函数。\n",
    "#编程题一道 C语言写字符串转浮点数。一次遍历即可。\n",
    "\n",
    "def str2float(str1):\n",
    "    l = len(str1)\n",
    "    if str1[0] == '-':\n",
    "        return -str2float(str1[1:])\n",
    "    index = -1\n",
    "    ret = 0\n",
    "    for i in range(l):\n",
    "        if str1[l-1-i] =='.':\n",
    "            index = i\n",
    "            continue\n",
    "        if index == -1:\n",
    "            ret += int(str1[l-1-i]) * (10 ** i )\n",
    "        else:\n",
    "            ret += int(str1[l-1-i]) * (10 ** (i-1) )\n",
    "        print(ret)\n",
    "    if index == -1:\n",
    "        return ret\n",
    "    else:\n",
    "        return ret * (0.1** (index))\n",
    "print('str2float:',str2float(\"-1234.4\"))    \n",
    "    \n",
    "\n",
    "    "
   ]
  },
  {
   "cell_type": "code",
   "execution_count": null,
   "metadata": {},
   "outputs": [],
   "source": [
    "\n"
   ]
  },
  {
   "cell_type": "code",
   "execution_count": 79,
   "metadata": {},
   "outputs": [],
   "source": [
    "x = ['-', 's', 'd', 'f', 'e', 'x', '-']\n",
    "x.remove('-')"
   ]
  },
  {
   "cell_type": "code",
   "execution_count": 84,
   "metadata": {},
   "outputs": [
    {
     "name": "stdout",
     "output_type": "stream",
     "text": [
      "1a2\n"
     ]
    }
   ],
   "source": [
    "print('a'.join(['1','2']))"
   ]
  },
  {
   "cell_type": "code",
   "execution_count": 74,
   "metadata": {
    "scrolled": true
   },
   "outputs": [
    {
     "data": {
      "text/plain": [
       "'123'"
      ]
     },
     "execution_count": 74,
     "metadata": {},
     "output_type": "execute_result"
    }
   ],
   "source": [
    "x"
   ]
  },
  {
   "cell_type": "code",
   "execution_count": 75,
   "metadata": {},
   "outputs": [],
   "source": [
    "x = x.join('123')"
   ]
  },
  {
   "cell_type": "code",
   "execution_count": 76,
   "metadata": {},
   "outputs": [
    {
     "data": {
      "text/plain": [
       "'112321233'"
      ]
     },
     "execution_count": 76,
     "metadata": {},
     "output_type": "execute_result"
    }
   ],
   "source": [
    "x"
   ]
  },
  {
   "cell_type": "code",
   "execution_count": 2,
   "metadata": {},
   "outputs": [
    {
     "data": {
      "text/plain": [
       "array([2, 2, 2], dtype=int64)"
      ]
     },
     "execution_count": 2,
     "metadata": {},
     "output_type": "execute_result"
    }
   ],
   "source": [
    "# H(x) = F(x) + (x)\n",
    "# F(x)就是我们说的残差。不去直接学习H(x) 而是去学习残差。\n",
    "# Q:为什么学习残差比直接学习更加容易 A:这只是他们的假设。\n",
    "import numpy as np\n",
    "np.bincount([0,1,2,1,2,0])"
   ]
  },
  {
   "cell_type": "code",
   "execution_count": 8,
   "metadata": {},
   "outputs": [
    {
     "name": "stdout",
     "output_type": "stream",
     "text": [
      "Counter({1: 1, 2: 1, 3: 1})\n",
      "1 1\n",
      "2 1\n",
      "3 1\n"
     ]
    }
   ],
   "source": [
    "from collections import Counter\n",
    "cnt = Counter([1,2,3])\n",
    "print(cnt)\n",
    "for i,j in cnt.items():\n",
    "    print (i ,j)"
   ]
  },
  {
   "cell_type": "markdown",
   "metadata": {},
   "source": [
    "#### 二叉树的遍历\n",
    "#### 按顺序 pre in post\n",
    "- 1 前序遍历和后序遍历不算是反转关系 而是镜像关系。根左右 左右根。可以通过在遍历时改变一下左右顺序即可变换两者。\n",
    "#### 按实现方式 递归 和 非递归\n",
    "- 1 非递归中 中序遍历最复杂。见https://github.com/mengban/leetcode/blob/master/094-binary-tree-inorder-traversal/binary-tree-inorder-traversal.py\n",
    "- 2 前序遍历和后序遍历\n",
    "  - 0.root进栈。\n",
    "  - 1.栈顶弹出node\n",
    "  - 2.node.right node.left依次进栈(此为前序)(后序为node.left node.right依次进栈)。深刻体现了栈的先入后出数据特点。\n",
    "  - 3.重复123\n",
    "\n",
    "#### 以及深度优先和广度优先"
   ]
  },
  {
   "cell_type": "code",
   "execution_count": 9,
   "metadata": {},
   "outputs": [],
   "source": [
    "### 101 判断两棵树是否same\n",
    "def isSame(p,q):\n",
    "    if p and q:\n",
    "        ret = p.val == q.val and isSame(p.left,q.left) and isSame(p.right,q.right)\n",
    "        return ret\n",
    "    return p and q # p 与q有一个为空 或者全为空\n",
    "\n",
    "### 判断两棵树是否镜像\n",
    "# 树的对称和树的same思路是一样的 \n",
    "# 就是遍历顺序不一样而已\n",
    "# 对称：左节点==右节点\n",
    "# 相等：右节点==左节点\n",
    "\n",
    "def isSys(p,q):\n",
    "    if p and q:\n",
    "        ret = p.val == q.val and isSame(p.left,q.right) and isSys(p.right,q.left)\n",
    "        return ret\n",
    "    return p and q\n",
    "### 判断树 的深度。递归 言简意赅\n",
    "def maxdepth(root):\n",
    "    if not root:\n",
    "        return 0\n",
    "    return maxdepth(p.left,p.right) + 1\n",
    "### sortedArray 转为BST。递归方式 。注意使二分查找树左右子树高度差小于1.所以应该是直接取中间值作为根。\n",
    "### 递归能够正常调用的一个很大原因是因为调用每一个函数都为其开启了新的代码栈 在这个栈里可以完成重复的计算。承接上次计算变量\n",
    "#又可以返回变量供上层递归调用。很多时候是否使用递归完全是感觉出来的，只要符合递归的造作即可:找到递归体  递归结束条件即可。\n",
    "### 树的数据结构由于其定义也是基于递归定义的，所以其具有天生的递归友好性。\n",
    "def sortedArrToTree(nums):\n",
    "    if not nums :\n",
    "        return None #返回空节点\n",
    "    mid = len(nums)//2\n",
    "    root = TreeNode(nums[mid])\n",
    "    l = nums[:mid]\n",
    "    r = nums[mid:]\n",
    "    root.left = sortedArrToTree(l)\n",
    "    root.right = sorrtedArrToTree(r)\n",
    "    return root"
   ]
  },
  {
   "cell_type": "code",
   "execution_count": 13,
   "metadata": {},
   "outputs": [
    {
     "name": "stdout",
     "output_type": "stream",
     "text": [
      "[11, 10, 10, 3]\n",
      "-2\n"
     ]
    }
   ],
   "source": [
    "### #120 triangle 一个三角阵从顶端到底端的最短路径和。\n",
    "# 从最后一层开始。_sum为4个数。然后倒数第二层 依次假设最短路径是经过该节点。然后遍历求和即可\n",
    "triangle =  [\n",
    "      [2],\n",
    "     [3,4],\n",
    "    [6,5,7],\n",
    "   [4,1,8,3]\n",
    "]\n",
    "def totalSum(triangle):\n",
    "    row = len(triangle)\n",
    "    _sum = triangle[-1][:]\n",
    "    for i in range(-2,-(row +1),-1):\n",
    "        for j in range(len(triangle[i])):\n",
    "            _sum[j] = min(_sum[j],_sum[j+1]) + triangle[i][j]\n",
    "    print(_sum)\n",
    "    return _sum[0]\n",
    "print(totalSum(triangle))    \n",
    "row = 4\n",
    "for i in range(-2,-row,-(1+1)):\n",
    "    print(i)"
   ]
  },
  {
   "cell_type": "markdown",
   "metadata": {},
   "source": [
    "#### 122 只有一次买卖机会。遍历数组 找max（当前值与最小值之差 最大利润） 并更新最小值以及 最大利润 无数次买卖机会。遍历数组 只要明天比今天高 就买然后第二天卖。因为如果明天价更高 我们可以今天再买入\n",
    "####  125 C语言的话分别从两端遍历数组。判断两个是否相等或者相差,遇到标点符号跳向下一个。\n",
    "``` c\n",
    "#include <stdio.h>\n",
    "\n",
    "int main()\n",
    "{\n",
    "    int a;\n",
    "    printf(\"Hello, World!\\n\");\n",
    "     a = 'a' - 'A';\n",
    "    printf(\"a:%d\",a);\n",
    "\n",
    "    return 0;\n",
    "}\n",
    "//a:32\n",
    "```"
   ]
  },
  {
   "cell_type": "code",
   "execution_count": 16,
   "metadata": {},
   "outputs": [
    {
     "data": {
      "text/plain": [
       "-32"
      ]
     },
     "execution_count": 16,
     "metadata": {},
     "output_type": "execute_result"
    }
   ],
   "source": [
    "ord('A') - ord('a')"
   ]
  },
  {
   "cell_type": "code",
   "execution_count": 17,
   "metadata": {},
   "outputs": [],
   "source": [
    "# 整型在内存中以补码形式保存，对于16位机来说，-1的原码是1 0000000 00000001，反码是1 1111111 11111110 其补码就是1 1111111 11111111.\n",
    "### 147  #167略过。"
   ]
  },
  {
   "cell_type": "code",
   "execution_count": 21,
   "metadata": {},
   "outputs": [
    {
     "data": {
      "text/plain": [
       "Counter({'a': 2, 'b': 1, 'c': 1, 'd': 1})"
      ]
     },
     "execution_count": 21,
     "metadata": {},
     "output_type": "execute_result"
    }
   ],
   "source": [
    "import collections\n",
    "collections.Counter(\"abcda\")"
   ]
  },
  {
   "cell_type": "code",
   "execution_count": 35,
   "metadata": {},
   "outputs": [
    {
     "data": {
      "text/plain": [
       "'2345'"
      ]
     },
     "execution_count": 35,
     "metadata": {},
     "output_type": "execute_result"
    }
   ],
   "source": [
    "### #268 找到missing number\n",
    "# 我的思路：排序然后找missing。genius ： 求前n项和 然后减去sum（nums）！！！\n",
    "3**20\n",
    "[1,2,3] + [4,5,6] + []\n",
    "s = \"hello, my name is lius \"\n",
    "s.split(' ')\n",
    "a = '123456'\n",
    "a[1:-1]"
   ]
  },
  {
   "cell_type": "code",
   "execution_count": 36,
   "metadata": {},
   "outputs": [],
   "source": [
    "### 459 解法也太秀了吧\n",
    "# 讲解没看懂\n",
    "#https://leetcode.com/problems/repeated-substring-pattern/discuss/94334/Easy-python-solution-with-explaination\n",
    "#500 keyboard-row easy\n"
   ]
  },
  {
   "cell_type": "code",
   "execution_count": 38,
   "metadata": {},
   "outputs": [
    {
     "name": "stdout",
     "output_type": "stream",
     "text": [
      "True\n",
      "False\n"
     ]
    }
   ],
   "source": [
    "word1 = 'asbdf'\n",
    "word2 = 'Asnd'\n",
    "print(word.islower())\n",
    "print(word2.isupper())"
   ]
  },
  {
   "cell_type": "code",
   "execution_count": 39,
   "metadata": {},
   "outputs": [],
   "source": [
    "### 在bst中  查找最小的abs(diff):按照中序遍历 二分查找树是有序的"
   ]
  },
  {
   "cell_type": "code",
   "execution_count": 48,
   "metadata": {},
   "outputs": [
    {
     "name": "stdout",
     "output_type": "stream",
     "text": [
      "{'a': 0, 'b': 1, 'c': 2, 'd': 3}\n"
     ]
    }
   ],
   "source": [
    "list_ = ['a','b','c','d']\n",
    "dict_ = {key:index for index,key in enumerate(list_)}\n",
    "print(dict_)"
   ]
  },
  {
   "cell_type": "code",
   "execution_count": 5,
   "metadata": {
    "collapsed": true
   },
   "outputs": [
    {
     "name": "stdout",
     "output_type": "stream",
     "text": [
      "g\n",
      "g\n",
      "g\n",
      "#\n",
      "l\n",
      "l\n",
      "l\n",
      "l\n",
      "e\n",
      "h\n",
      "h\n",
      "h\n",
      "h\n",
      "h\n",
      "h\n",
      "h\n",
      "h\n",
      "h\n",
      "h\n",
      "h\n",
      "h\n",
      "h\n",
      "h\n",
      "h\n",
      "h\n",
      "h\n",
      "h\n",
      "h\n",
      "h\n",
      "h\n",
      "h\n",
      "h\n",
      "h\n",
      "h\n",
      "h\n",
      "h\n",
      "h\n",
      "h\n",
      "h\n",
      "h\n",
      "h\n",
      "h\n",
      "h\n",
      "h\n",
      "h\n",
      "h\n",
      "h\n",
      "h\n",
      "h\n",
      "h\n",
      "h\n",
      "h\n",
      "h\n"
     ]
    }
   ],
   "source": [
    "### 第一次只出现一次的字符\n",
    "def appearfirst(_str):\n",
    "    index = [0 for item in range(256)]\n",
    "    queue = []\n",
    "    for ch in _str:\n",
    "        queue.append(ch)\n",
    "        index[ord(ch)] += 1\n",
    "        while len(queue)!=0 and index[ord(queue[0])] > 1:  #保证第一个只出现一次\n",
    "            queue.pop(0)\n",
    "        if len(queue) == 0:\n",
    "            print('#')\n",
    "        else:\n",
    "            print(queue[0])\n",
    "appearfirst(\"googlehile len(queue)!=0 and index[ord(queue[0])] > 1\")"
   ]
  },
  {
   "cell_type": "code",
   "execution_count": 29,
   "metadata": {},
   "outputs": [
    {
     "name": "stdout",
     "output_type": "stream",
     "text": [
      "[5, 6, 6, 6, 6, 6, 6, 6, 6, 7, 9, 9, 9, 9]\n"
     ]
    }
   ],
   "source": [
    "### 最大滑动窗口\n",
    "### 基本原则 窗口里的某一元素 其前面的数值一定比他大\n",
    "def maxInWindow(nums,size):\n",
    "    \"\"\"queue 只保存角标\n",
    "    >>> [2,3,4,2,6,2,5,1]\n",
    "    \n",
    "    \"\"\"\n",
    "    \n",
    "    _max = []\n",
    "    queue = [] \n",
    "    for i in range(size): \n",
    "        queue.append(i)\n",
    "        while nums[queue[len(queue)-1]] > nums[queue[len(queue)-2]]:\n",
    "            queue.pop(len(queue)-2)  #最后一个数的前面没有比他小的数\n",
    "    _max.append(nums[queue[0]])\n",
    "    \n",
    "    for i in range(size,len(nums)):\n",
    "        queue.append(i)\n",
    "        while nums[queue[len(queue)-1]] > nums[queue[len(queue)-2]]:\n",
    "            queue.pop(len(queue)-2)  #最后一个数的前面没有比他小的数\n",
    "        if queue[len(queue) - 1] - queue[0] >= size: ## 队尾 与队首差大于窗口长度 则把队首元素踢出去\n",
    "            queue.pop(0)\n",
    "        _max.append(nums[queue[0]])\n",
    "    return _max\n",
    "print(maxInWindow([2,3,5,4,2,6,2,5,1,5,6,2,3,7,9,3,4,7],5))\n",
    "        \n",
    "    \n",
    "    \n",
    "            "
   ]
  },
  {
   "cell_type": "code",
   "execution_count": 34,
   "metadata": {},
   "outputs": [
    {
     "name": "stdout",
     "output_type": "stream",
     "text": [
      "4\n",
      "helloo\n",
      "hello\n",
      "helll\n",
      "hell\n",
      "11222\n",
      "112\n",
      "11\n",
      "11\n"
     ]
    }
   ],
   "source": [
    "N = input()\n",
    "for i in range(int(N)):\n",
    "    s = input()\n",
    "    if len(s) < 3:\n",
    "        print (s)\n",
    "    else:\n",
    "        c = 2\n",
    "        while c < len(s):\n",
    "            if s[c] == s[c-1] and s[c] == s[c-2]:\n",
    "                s = s[:c]+s[c+1:]\n",
    "            elif c >= 3 and s[c] == s[c-1] and s[c-2] == s[c-3]:\n",
    "                s = s[:c]+s[c+1:]\n",
    "            else:\n",
    "                c += 1\n",
    "        print (s)"
   ]
  },
  {
   "cell_type": "code",
   "execution_count": 6,
   "metadata": {},
   "outputs": [
    {
     "name": "stdout",
     "output_type": "stream",
     "text": [
      "2\n",
      "2\n",
      "[[1, 2]]\n"
     ]
    }
   ],
   "source": [
    "### continus sum\n",
    "'''\n",
    "小明很喜欢数学,有一天他在做数学作业时,要求计算出9~16的和,他马上就写出了正确答案是100。\n",
    "但是他并不满足于此,他在想究竟有多少种连续的正数序列的和为100(至少包括两个数)。\n",
    "没多久,他就得到另一组连续正数和为100的序列:18,19,20,21,22。\n",
    "现在把问题交给你,你能不能也很快的找出所有和为S的连续正数序列? Good Luck!\n",
    "'''\n",
    "'''\n",
    "思路: 按照高斯公式进行展开 首先求得最大的k值sqrt(2*s) 即连续数字个数。然后继续求得k为偶 则s/k 小数为0.5\n",
    "k为奇 s/k小数位为0\n",
    "'''\n",
    "import math\n",
    "def sol(s):\n",
    "    n = int(math.sqrt(2 * s))\n",
    "    ret = []\n",
    "    print(n)\n",
    "    while n>1:\n",
    "        if n%2 == 0: #偶数\n",
    "            if s/n - int(s/n) == 0.5:\n",
    "                ret.append([x for x in range(int(s/n) -n//2 + 1,int(s/n) + n//2 + 1) ])\n",
    "                print(n)\n",
    "        if n%2 == 1: #奇数\n",
    "            if s%n == 0: #整除\n",
    "                ret.append([x for x in range(s//n - n//2,s//n + n//2 +1) ])\n",
    "                print(n)\n",
    "        n -= 1\n",
    "    return ret\n",
    "print(sol(3))\n",
    "        \n",
    "    "
   ]
  },
  {
   "cell_type": "code",
   "execution_count": 26,
   "metadata": {},
   "outputs": [
    {
     "name": "stdout",
     "output_type": "stream",
     "text": [
      "[3, 38, 45, 64, 67, 80, 82, 115, 142, 144, 147, 149, 162, 174, 181, 187, 219, 221, 233, 234, 235, 256, 259, 266, 267, 268, 275, 284, 288, 301, 315, 341, 355, 360, 364, 366, 380, 401, 406, 407, 416, 418, 425, 433, 446, 455, 460, 463, 465, 474, 478, 486, 497, 505, 516, 523, 550, 557, 569, 571, 575, 576, 583, 588, 601, 604, 630, 637, 648, 650, 655, 665, 667, 671, 697, 727, 735, 739, 746, 747, 773, 784, 795, 811, 848, 849, 863, 870, 874, 882, 930, 935, 936, 958, 965, 971, 973, 983, 993, 995] 2519\n"
     ]
    }
   ],
   "source": [
    "### 逆序对数目\n",
    "nums = [364,637,341,406,747,995,234,971,571,219,993,407,416,366,315,301,601,650,418,355,460,505,360,965,516,648,727,667,465,849,455,181,486,149,588,233,144,174,557,67,746,550,474,162,268,142,463,221,882,576,604,739,288,569,256,936,275,401,497,82,935,983,583,523,697,478,147,795,380,973,958,115,773,870,259,655,446,863,735,784,3,671,433,630,425,930,64,266,235,187,284,665,874,80,45,848,38,811,267,575]\n",
    "#nums = [8,1,2,0]\n",
    "global cnt\n",
    "cnt = 0\n",
    "def merge_sort(nums):\n",
    "    length = len(nums)\n",
    "    if length == 1:\n",
    "        return nums\n",
    "    mid = length//2\n",
    "    left = merge_sort(nums[:mid])\n",
    "    right = merge_sort(nums[mid:])\n",
    "    ret = merge(left,right)\n",
    "    return ret\n",
    "    \n",
    "    \n",
    "    \n",
    "def merge(left,right):\n",
    "    global cnt\n",
    "    posl = 0\n",
    "    posr = 0\n",
    "    ret = []\n",
    "    while(posl<len(left) and posr <len(right)):\n",
    "        if left[posl] < right[posr]:\n",
    "            ret.append(left[posl])#左侧小于右侧\n",
    "            posl += 1\n",
    "        else:     #左侧大于等于右侧\n",
    "            ret.append(right[posr])\n",
    "            posr += 1\n",
    "            cnt += len(left) - posl\n",
    "        pass \n",
    "    return ret + left[posl:] + right[posr:]\n",
    "print(merge_sort(nums),cnt)"
   ]
  },
  {
   "cell_type": "code",
   "execution_count": null,
   "metadata": {},
   "outputs": [],
   "source": [
    "# -*- coding:utf-8 -*-\n",
    "### nowcoder 2.7\n",
    "global cnt\n",
    "cnt = 0\n",
    "class Solution:\n",
    "    global cnt\n",
    "    def __init__(self):\n",
    "        self.cnt = 0\n",
    "    def InversePairs(self,data):\n",
    "        nums = data\n",
    "        length = len(nums)\n",
    "        if length == 1:\n",
    "            return nums\n",
    "        mid = length//2\n",
    "        left = self.InversePairs(nums[:mid])\n",
    "        right = self.InversePairs(nums[mid:])\n",
    "        ret = self.merge(left,right)\n",
    "        return cnt%1000000007\n",
    "    \n",
    "    def merge(self,left,right):\n",
    "        posl = 0\n",
    "        posr = 0\n",
    "        ret = []\n",
    "        global cnt\n",
    "        while(posl<len(left) and posr <len(right)):\n",
    "            if left[posl] < right[posr]:\n",
    "                ret.append(left[posl])#左侧小于右侧\n",
    "                posl += 1\n",
    "            else:     #左侧大于等于右侧\n",
    "                ret.append(right[posr])\n",
    "                posr += 1\n",
    "                cnt += len(left) - posl\n",
    "        return ret + left[posl:] + right[posr:]"
   ]
  },
  {
   "cell_type": "code",
   "execution_count": null,
   "metadata": {},
   "outputs": [],
   "source": []
  },
  {
   "cell_type": "code",
   "execution_count": null,
   "metadata": {},
   "outputs": [],
   "source": []
  }
 ],
 "metadata": {
  "kernelspec": {
   "display_name": "Python [conda env:tf-gpu]",
   "language": "python",
   "name": "conda-env-tf-gpu-py"
  },
  "language_info": {
   "codemirror_mode": {
    "name": "ipython",
    "version": 3
   },
   "file_extension": ".py",
   "mimetype": "text/x-python",
   "name": "python",
   "nbconvert_exporter": "python",
   "pygments_lexer": "ipython3",
   "version": "3.6.7"
  }
 },
 "nbformat": 4,
 "nbformat_minor": 2
}
